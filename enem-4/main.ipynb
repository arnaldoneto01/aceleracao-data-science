{
 "cells": [
  {
   "cell_type": "code",
   "execution_count": 1,
   "metadata": {},
   "outputs": [],
   "source": [
    "import pandas as pd\n",
    "from collections import Counter\n",
    "import numpy as np\n",
    "from sklearn.ensemble import RandomForestClassifier"
   ]
  },
  {
   "cell_type": "code",
   "execution_count": 2,
   "metadata": {},
   "outputs": [
    {
     "name": "stdout",
     "output_type": "stream",
     "text": [
      "Training Features Shape: (13730, 123)\n",
      "Training Labels Shape: (13730,)\n"
     ]
    },
    {
     "name": "stderr",
     "output_type": "stream",
     "text": [
      "[Parallel(n_jobs=-1)]: Using backend ThreadingBackend with 8 concurrent workers.\n",
      "[Parallel(n_jobs=-1)]: Done  34 tasks      | elapsed:    0.0s\n",
      "[Parallel(n_jobs=-1)]: Done 184 tasks      | elapsed:    0.3s\n",
      "[Parallel(n_jobs=-1)]: Done 200 out of 200 | elapsed:    0.3s finished\n",
      "[Parallel(n_jobs=8)]: Using backend ThreadingBackend with 8 concurrent workers.\n",
      "[Parallel(n_jobs=8)]: Done  34 tasks      | elapsed:    0.0s\n",
      "[Parallel(n_jobs=8)]: Done 184 tasks      | elapsed:    0.0s\n",
      "[Parallel(n_jobs=8)]: Done 200 out of 200 | elapsed:    0.0s finished\n"
     ]
    }
   ],
   "source": [
    "df_test = pd.read_csv('test.csv')\n",
    "df_train = pd.read_csv('train.csv')\n",
    "\n",
    "#Counter(df_train.IN_TREINEIRO)\n",
    "\n",
    "ID = 'NU_INSCRICAO'\n",
    "target = 'IN_TREINEIRO'\n",
    "df = df_train[list(df_test.columns)].fillna(0)\n",
    "df = df.drop(columns=[ID])\n",
    "train_features = pd.get_dummies(df)\n",
    "\n",
    "\n",
    "# Labels are the values we want to predict\n",
    "train_labels = np.array(df_train[target].to_list())\n",
    "# Saving feature names for later use\n",
    "feature_list = list(train_features.columns)\n",
    "# Convert to numpy array\n",
    "features_nparray = np.array(train_features)\n",
    "\n",
    "print('Training Features Shape:', train_features.shape)\n",
    "print('Training Labels Shape:', train_labels.shape)\n",
    "\n",
    "\n",
    "# Instantiate model with 1000 decision trees\n",
    "rf = RandomForestClassifier(n_estimators = 200, random_state = 42, n_jobs = -1, verbose = 1)\n",
    "# Train the model on training data\n",
    "rf.fit(train_features, train_labels);\n",
    "\n",
    "#predictions = rf.predict(train_features)\n",
    "\n",
    "#sum(predictions-train_labels)\n",
    "\n",
    "df_answer = pd.DataFrame()\n",
    "\n",
    "df_answer[ID] = df_test[ID]\n",
    "df_test = df_test.drop(columns=[ID]).fillna(0)\n",
    "test_features = pd.get_dummies(df_test)\n",
    "predictions = rf.predict(test_features)\n",
    "\n",
    "df_answer[target] = list(predictions)\n",
    "#df_answer.head()\n",
    "\n",
    "df_answer.to_csv('answer.csv', index=False)"
   ]
  },
  {
   "cell_type": "code",
   "execution_count": null,
   "metadata": {},
   "outputs": [],
   "source": []
  }
 ],
 "metadata": {
  "kernelspec": {
   "display_name": "Python 3.8.3 64-bit ('aceleradev_ds': conda)",
   "language": "python",
   "name": "python38364bitaceleradevdsconda90142ef7ae6d485383e6708a3abb4dfc"
  },
  "language_info": {
   "codemirror_mode": {
    "name": "ipython",
    "version": 3
   },
   "file_extension": ".py",
   "mimetype": "text/x-python",
   "name": "python",
   "nbconvert_exporter": "python",
   "pygments_lexer": "ipython3",
   "version": "3.8.3"
  }
 },
 "nbformat": 4,
 "nbformat_minor": 4
}
