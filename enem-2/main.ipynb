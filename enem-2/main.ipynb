{
 "cells": [
  {
   "cell_type": "code",
   "execution_count": 3,
   "metadata": {},
   "outputs": [],
   "source": [
    "import pandas as pd\n",
    "import numpy as np\n",
    "from sklearn import preprocessing\n",
    "from sklearn import ensemble\n",
    "from sklearn.linear_model import LinearRegression\n",
    "import matplotlib.pyplot as plt"
   ]
  },
  {
   "cell_type": "code",
   "execution_count": 4,
   "metadata": {},
   "outputs": [],
   "source": [
    "df = pd.read_csv('train.csv')"
   ]
  },
  {
   "cell_type": "code",
   "execution_count": 5,
   "metadata": {},
   "outputs": [],
   "source": [
    "target = 'NU_NOTA_MT'"
   ]
  },
  {
   "cell_type": "code",
   "execution_count": 6,
   "metadata": {},
   "outputs": [],
   "source": [
    "features = ['SG_UF_RESIDENCIA',\n",
    "            'NU_IDADE', \n",
    "            'TP_SEXO', \n",
    "            'TP_COR_RACA', \n",
    "            'TP_NACIONALIDADE',  \n",
    "            'TP_ST_CONCLUSAO', \n",
    "            'TP_ANO_CONCLUIU', \n",
    "            'TP_ESCOLA', \n",
    "            'TP_ENSINO', \n",
    "            'IN_TREINEIRO', \n",
    "            'TP_DEPENDENCIA_ADM_ESC',\n",
    "            'IN_BAIXA_VISAO',\n",
    "            'IN_CEGUEIRA',\n",
    "            'IN_SURDEZ',\n",
    "            'IN_DISLEXIA',\n",
    "            'IN_DISCALCULIA',\n",
    "            'IN_SABATISTA',\n",
    "            'IN_GESTANTE',\n",
    "            'IN_IDOSO',\n",
    "            'TP_PRESENCA_CN',\n",
    "            'TP_PRESENCA_CH',\n",
    "            'TP_PRESENCA_LC',\n",
    "            'CO_PROVA_CN',\n",
    "            'CO_PROVA_CH',\n",
    "            'CO_PROVA_LC',\n",
    "            'CO_PROVA_MT',\n",
    "            'NU_NOTA_CN',\n",
    "            'NU_NOTA_CH',\n",
    "            'NU_NOTA_LC',\n",
    "            'TP_LINGUA',\n",
    "            'TP_STATUS_REDACAO',\n",
    "            'NU_NOTA_COMP1',\n",
    "            'NU_NOTA_COMP2',\n",
    "            'NU_NOTA_COMP3',\n",
    "            'NU_NOTA_COMP4',\n",
    "            'NU_NOTA_COMP5',\n",
    "            'NU_NOTA_REDACAO'\n",
    "           ]"
   ]
  },
  {
   "cell_type": "code",
   "execution_count": 7,
   "metadata": {},
   "outputs": [],
   "source": [
    "#Elimina as linhas com NaN em NU_NOTA_MT\n",
    "df.dropna(subset=[target], inplace=True)"
   ]
  },
  {
   "cell_type": "code",
   "execution_count": 8,
   "metadata": {},
   "outputs": [],
   "source": [
    "#Preenche todos os NaN das colunas numericas com a media da coluna\n",
    "numerical_col = ['NU_NOTA_CN', 'NU_NOTA_CH',\n",
    "        'NU_NOTA_LC', 'NU_NOTA_COMP1', 'NU_NOTA_COMP2',\n",
    "        'NU_NOTA_COMP3', 'NU_NOTA_COMP4', 'NU_NOTA_COMP5', 'NU_NOTA_REDACAO']\n",
    "for col in numerical_col:\n",
    "    df[col].fillna(df[col].mean(), inplace=True)"
   ]
  },
  {
   "cell_type": "code",
   "execution_count": 9,
   "metadata": {},
   "outputs": [],
   "source": [
    "cd_cat = [ 'TP', 'CO', 'SG']\n",
    "#Todas as features categóricas\n",
    "cat_features = [ i for i in features if i[:2] in cd_cat]\n",
    "#Todas as features numéricas\n",
    "num_features = list( set( features ) - set( cat_features ) )"
   ]
  },
  {
   "cell_type": "code",
   "execution_count": 10,
   "metadata": {},
   "outputs": [],
   "source": [
    "#Preenche todos os NaN das colunas categoricas com -1\n",
    "df[cat_features] = df[cat_features].fillna(-1).astype(str)\n",
    "df = df.reset_index(drop=True)"
   ]
  },
  {
   "cell_type": "code",
   "execution_count": 11,
   "metadata": {},
   "outputs": [
    {
     "data": {
      "text/plain": [
       "OneHotEncoder(handle_unknown='ignore', sparse=False)"
      ]
     },
     "execution_count": 11,
     "metadata": {},
     "output_type": "execute_result"
    }
   ],
   "source": [
    "#Trata as colunas que contem dados categoricos para que possam ser utilizadas no modelo\n",
    "onehot = preprocessing.OneHotEncoder( sparse=False, handle_unknown='ignore' ) \n",
    "onehot.fit( df[cat_features] )"
   ]
  },
  {
   "cell_type": "code",
   "execution_count": 12,
   "metadata": {},
   "outputs": [],
   "source": [
    "df_onehot = pd.DataFrame(onehot.transform(df[cat_features]),\n",
    "                         columns = onehot.get_feature_names(cat_features))"
   ]
  },
  {
   "cell_type": "code",
   "execution_count": 13,
   "metadata": {},
   "outputs": [
    {
     "data": {
      "text/html": [
       "<div>\n",
       "<style scoped>\n",
       "    .dataframe tbody tr th:only-of-type {\n",
       "        vertical-align: middle;\n",
       "    }\n",
       "\n",
       "    .dataframe tbody tr th {\n",
       "        vertical-align: top;\n",
       "    }\n",
       "\n",
       "    .dataframe thead th {\n",
       "        text-align: right;\n",
       "    }\n",
       "</style>\n",
       "<table border=\"1\" class=\"dataframe\">\n",
       "  <thead>\n",
       "    <tr style=\"text-align: right;\">\n",
       "      <th></th>\n",
       "      <th>SG_UF_RESIDENCIA_AC</th>\n",
       "      <th>SG_UF_RESIDENCIA_AL</th>\n",
       "      <th>SG_UF_RESIDENCIA_AM</th>\n",
       "      <th>SG_UF_RESIDENCIA_AP</th>\n",
       "      <th>SG_UF_RESIDENCIA_BA</th>\n",
       "      <th>SG_UF_RESIDENCIA_CE</th>\n",
       "      <th>SG_UF_RESIDENCIA_DF</th>\n",
       "      <th>SG_UF_RESIDENCIA_ES</th>\n",
       "      <th>SG_UF_RESIDENCIA_GO</th>\n",
       "      <th>SG_UF_RESIDENCIA_MA</th>\n",
       "      <th>...</th>\n",
       "      <th>TP_LINGUA_1</th>\n",
       "      <th>TP_STATUS_REDACAO_1.0</th>\n",
       "      <th>TP_STATUS_REDACAO_2.0</th>\n",
       "      <th>TP_STATUS_REDACAO_3.0</th>\n",
       "      <th>TP_STATUS_REDACAO_4.0</th>\n",
       "      <th>TP_STATUS_REDACAO_5.0</th>\n",
       "      <th>TP_STATUS_REDACAO_6.0</th>\n",
       "      <th>TP_STATUS_REDACAO_7.0</th>\n",
       "      <th>TP_STATUS_REDACAO_8.0</th>\n",
       "      <th>TP_STATUS_REDACAO_9.0</th>\n",
       "    </tr>\n",
       "  </thead>\n",
       "  <tbody>\n",
       "    <tr>\n",
       "      <th>0</th>\n",
       "      <td>0.0</td>\n",
       "      <td>0.0</td>\n",
       "      <td>0.0</td>\n",
       "      <td>0.0</td>\n",
       "      <td>0.0</td>\n",
       "      <td>0.0</td>\n",
       "      <td>0.0</td>\n",
       "      <td>0.0</td>\n",
       "      <td>0.0</td>\n",
       "      <td>0.0</td>\n",
       "      <td>...</td>\n",
       "      <td>1.0</td>\n",
       "      <td>1.0</td>\n",
       "      <td>0.0</td>\n",
       "      <td>0.0</td>\n",
       "      <td>0.0</td>\n",
       "      <td>0.0</td>\n",
       "      <td>0.0</td>\n",
       "      <td>0.0</td>\n",
       "      <td>0.0</td>\n",
       "      <td>0.0</td>\n",
       "    </tr>\n",
       "    <tr>\n",
       "      <th>1</th>\n",
       "      <td>0.0</td>\n",
       "      <td>0.0</td>\n",
       "      <td>0.0</td>\n",
       "      <td>0.0</td>\n",
       "      <td>0.0</td>\n",
       "      <td>1.0</td>\n",
       "      <td>0.0</td>\n",
       "      <td>0.0</td>\n",
       "      <td>0.0</td>\n",
       "      <td>0.0</td>\n",
       "      <td>...</td>\n",
       "      <td>1.0</td>\n",
       "      <td>1.0</td>\n",
       "      <td>0.0</td>\n",
       "      <td>0.0</td>\n",
       "      <td>0.0</td>\n",
       "      <td>0.0</td>\n",
       "      <td>0.0</td>\n",
       "      <td>0.0</td>\n",
       "      <td>0.0</td>\n",
       "      <td>0.0</td>\n",
       "    </tr>\n",
       "    <tr>\n",
       "      <th>2</th>\n",
       "      <td>0.0</td>\n",
       "      <td>0.0</td>\n",
       "      <td>0.0</td>\n",
       "      <td>0.0</td>\n",
       "      <td>1.0</td>\n",
       "      <td>0.0</td>\n",
       "      <td>0.0</td>\n",
       "      <td>0.0</td>\n",
       "      <td>0.0</td>\n",
       "      <td>0.0</td>\n",
       "      <td>...</td>\n",
       "      <td>0.0</td>\n",
       "      <td>1.0</td>\n",
       "      <td>0.0</td>\n",
       "      <td>0.0</td>\n",
       "      <td>0.0</td>\n",
       "      <td>0.0</td>\n",
       "      <td>0.0</td>\n",
       "      <td>0.0</td>\n",
       "      <td>0.0</td>\n",
       "      <td>0.0</td>\n",
       "    </tr>\n",
       "    <tr>\n",
       "      <th>3</th>\n",
       "      <td>0.0</td>\n",
       "      <td>0.0</td>\n",
       "      <td>0.0</td>\n",
       "      <td>0.0</td>\n",
       "      <td>0.0</td>\n",
       "      <td>0.0</td>\n",
       "      <td>0.0</td>\n",
       "      <td>0.0</td>\n",
       "      <td>0.0</td>\n",
       "      <td>0.0</td>\n",
       "      <td>...</td>\n",
       "      <td>0.0</td>\n",
       "      <td>1.0</td>\n",
       "      <td>0.0</td>\n",
       "      <td>0.0</td>\n",
       "      <td>0.0</td>\n",
       "      <td>0.0</td>\n",
       "      <td>0.0</td>\n",
       "      <td>0.0</td>\n",
       "      <td>0.0</td>\n",
       "      <td>0.0</td>\n",
       "    </tr>\n",
       "    <tr>\n",
       "      <th>4</th>\n",
       "      <td>0.0</td>\n",
       "      <td>0.0</td>\n",
       "      <td>0.0</td>\n",
       "      <td>0.0</td>\n",
       "      <td>0.0</td>\n",
       "      <td>0.0</td>\n",
       "      <td>0.0</td>\n",
       "      <td>0.0</td>\n",
       "      <td>0.0</td>\n",
       "      <td>0.0</td>\n",
       "      <td>...</td>\n",
       "      <td>0.0</td>\n",
       "      <td>1.0</td>\n",
       "      <td>0.0</td>\n",
       "      <td>0.0</td>\n",
       "      <td>0.0</td>\n",
       "      <td>0.0</td>\n",
       "      <td>0.0</td>\n",
       "      <td>0.0</td>\n",
       "      <td>0.0</td>\n",
       "      <td>0.0</td>\n",
       "    </tr>\n",
       "  </tbody>\n",
       "</table>\n",
       "<p>5 rows × 122 columns</p>\n",
       "</div>"
      ],
      "text/plain": [
       "   SG_UF_RESIDENCIA_AC  SG_UF_RESIDENCIA_AL  SG_UF_RESIDENCIA_AM  \\\n",
       "0                  0.0                  0.0                  0.0   \n",
       "1                  0.0                  0.0                  0.0   \n",
       "2                  0.0                  0.0                  0.0   \n",
       "3                  0.0                  0.0                  0.0   \n",
       "4                  0.0                  0.0                  0.0   \n",
       "\n",
       "   SG_UF_RESIDENCIA_AP  SG_UF_RESIDENCIA_BA  SG_UF_RESIDENCIA_CE  \\\n",
       "0                  0.0                  0.0                  0.0   \n",
       "1                  0.0                  0.0                  1.0   \n",
       "2                  0.0                  1.0                  0.0   \n",
       "3                  0.0                  0.0                  0.0   \n",
       "4                  0.0                  0.0                  0.0   \n",
       "\n",
       "   SG_UF_RESIDENCIA_DF  SG_UF_RESIDENCIA_ES  SG_UF_RESIDENCIA_GO  \\\n",
       "0                  0.0                  0.0                  0.0   \n",
       "1                  0.0                  0.0                  0.0   \n",
       "2                  0.0                  0.0                  0.0   \n",
       "3                  0.0                  0.0                  0.0   \n",
       "4                  0.0                  0.0                  0.0   \n",
       "\n",
       "   SG_UF_RESIDENCIA_MA  ...  TP_LINGUA_1  TP_STATUS_REDACAO_1.0  \\\n",
       "0                  0.0  ...          1.0                    1.0   \n",
       "1                  0.0  ...          1.0                    1.0   \n",
       "2                  0.0  ...          0.0                    1.0   \n",
       "3                  0.0  ...          0.0                    1.0   \n",
       "4                  0.0  ...          0.0                    1.0   \n",
       "\n",
       "   TP_STATUS_REDACAO_2.0  TP_STATUS_REDACAO_3.0  TP_STATUS_REDACAO_4.0  \\\n",
       "0                    0.0                    0.0                    0.0   \n",
       "1                    0.0                    0.0                    0.0   \n",
       "2                    0.0                    0.0                    0.0   \n",
       "3                    0.0                    0.0                    0.0   \n",
       "4                    0.0                    0.0                    0.0   \n",
       "\n",
       "   TP_STATUS_REDACAO_5.0  TP_STATUS_REDACAO_6.0  TP_STATUS_REDACAO_7.0  \\\n",
       "0                    0.0                    0.0                    0.0   \n",
       "1                    0.0                    0.0                    0.0   \n",
       "2                    0.0                    0.0                    0.0   \n",
       "3                    0.0                    0.0                    0.0   \n",
       "4                    0.0                    0.0                    0.0   \n",
       "\n",
       "   TP_STATUS_REDACAO_8.0  TP_STATUS_REDACAO_9.0  \n",
       "0                    0.0                    0.0  \n",
       "1                    0.0                    0.0  \n",
       "2                    0.0                    0.0  \n",
       "3                    0.0                    0.0  \n",
       "4                    0.0                    0.0  \n",
       "\n",
       "[5 rows x 122 columns]"
      ]
     },
     "execution_count": 13,
     "metadata": {},
     "output_type": "execute_result"
    }
   ],
   "source": [
    "df_onehot.head()"
   ]
  },
  {
   "cell_type": "code",
   "execution_count": 14,
   "metadata": {},
   "outputs": [],
   "source": [
    "df_train = pd.concat([df[num_features], df_onehot], axis=1, ignore_index=True)"
   ]
  },
  {
   "cell_type": "code",
   "execution_count": 15,
   "metadata": {},
   "outputs": [
    {
     "data": {
      "text/plain": [
       "(10133, 141)"
      ]
     },
     "execution_count": 15,
     "metadata": {},
     "output_type": "execute_result"
    }
   ],
   "source": [
    "df_train.shape"
   ]
  },
  {
   "cell_type": "code",
   "execution_count": 16,
   "metadata": {},
   "outputs": [
    {
     "name": "stdout",
     "output_type": "stream",
     "text": [
      "Estimated intercept coefficient: -1718234063.7130098\n",
      "Number of coefficients: 141\n"
     ]
    }
   ],
   "source": [
    "lm = LinearRegression()\n",
    "lm.fit(df_train, df[target])\n",
    "print('Estimated intercept coefficient:', lm.intercept_)\n",
    "print('Number of coefficients:', len(lm.coef_))"
   ]
  },
  {
   "cell_type": "code",
   "execution_count": 17,
   "metadata": {},
   "outputs": [],
   "source": [
    "features = df_train.columns.tolist()"
   ]
  },
  {
   "cell_type": "code",
   "execution_count": 18,
   "metadata": {},
   "outputs": [
    {
     "data": {
      "image/png": "[encoded data removed]",
      "text/plain": [
       "<Figure size 432x288 with 1 Axes>"
      ]
     },
     "metadata": {
      "needs_background": "light"
     },
     "output_type": "display_data"
    }
   ],
   "source": [
    "plt.scatter(df[target], lm.predict(df_train), alpha=0.5)\n",
    "plt.xlabel(\"NU_NOTA_MT Real\")\n",
    "plt.ylabel(\"NU_NOTA_MT Previsto\")\n",
    "plt.title(\"Notas de Matematica ENEM 2016 Real vs Previsto\");"
   ]
  },
  {
   "cell_type": "code",
   "execution_count": 19,
   "metadata": {},
   "outputs": [
    {
     "data": {
      "text/plain": [
       "5583.503235804488"
      ]
     },
     "execution_count": 19,
     "metadata": {},
     "output_type": "execute_result"
    }
   ],
   "source": [
    "np.mean((df[target] - lm.predict(df_train)) ** 2)"
   ]
  },
  {
   "cell_type": "code",
   "execution_count": 20,
   "metadata": {},
   "outputs": [],
   "source": [
    "model = pd.Series( [num_features, cat_features, features, lm, onehot],\n",
    "                 index=['num_features', 'cat_features', 'features', 'model', 'onehot'])\n",
    "model.to_pickle('model.pkl')"
   ]
  },
  {
   "cell_type": "code",
   "execution_count": null,
   "metadata": {},
   "outputs": [],
   "source": []
  }
 ],
 "metadata": {
  "kernelspec": {
   "display_name": "Python 3.8.3 64-bit ('aceleradev_ds': conda)",
   "language": "python",
   "name": "python38364bitaceleradevdsconda90142ef7ae6d485383e6708a3abb4dfc"
  },
  "language_info": {
   "codemirror_mode": {
    "name": "ipython",
    "version": 3
   },
   "file_extension": ".py",
   "mimetype": "text/x-python",
   "name": "python",
   "nbconvert_exporter": "python",
   "pygments_lexer": "ipython3",
   "version": "3.8.3"
  }
 },
 "nbformat": 4,
 "nbformat_minor": 4
}
